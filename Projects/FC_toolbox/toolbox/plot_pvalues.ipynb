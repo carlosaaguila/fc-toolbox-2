{
 "cells": [
  {
   "cell_type": "code",
   "execution_count": 2,
   "id": "c6959a85-df61-4e08-9054-2a2002bf3726",
   "metadata": {},
   "outputs": [
    {
     "name": "stdout",
     "output_type": "stream",
     "text": [
      "Collecting git+https://github.com/ieeg-portal/ieegpy.git\n",
      "  Cloning https://github.com/ieeg-portal/ieegpy.git to /private/var/folders/j3/ps9_bddj0kg0ds3px8t769_00000gn/T/pip-req-build-1ccwijz3\n",
      "  Running command git clone -q https://github.com/ieeg-portal/ieegpy.git /private/var/folders/j3/ps9_bddj0kg0ds3px8t769_00000gn/T/pip-req-build-1ccwijz3\n",
      "  Resolved https://github.com/ieeg-portal/ieegpy.git to commit 080bfa42a8503380ef164b5e7b116613f75073bb\n",
      "Requirement already satisfied: deprecation in /Users/carlosaguila/opt/anaconda3/lib/python3.9/site-packages (from ieeg==1.6) (2.1.0)\n",
      "Requirement already satisfied: requests in /Users/carlosaguila/opt/anaconda3/lib/python3.9/site-packages (from ieeg==1.6) (2.26.0)\n",
      "Requirement already satisfied: numpy in /Users/carlosaguila/opt/anaconda3/lib/python3.9/site-packages (from ieeg==1.6) (1.20.3)\n",
      "Requirement already satisfied: pandas in /Users/carlosaguila/opt/anaconda3/lib/python3.9/site-packages (from ieeg==1.6) (1.3.4)\n",
      "Requirement already satisfied: pennprov==2.2.4 in /Users/carlosaguila/opt/anaconda3/lib/python3.9/site-packages (from ieeg==1.6) (2.2.4)\n",
      "Requirement already satisfied: certifi>=2017.4.17 in /Users/carlosaguila/opt/anaconda3/lib/python3.9/site-packages (from pennprov==2.2.4->ieeg==1.6) (2021.10.8)\n",
      "Requirement already satisfied: urllib3>=1.23 in /Users/carlosaguila/opt/anaconda3/lib/python3.9/site-packages (from pennprov==2.2.4->ieeg==1.6) (1.26.7)\n",
      "Requirement already satisfied: six>=1.10 in /Users/carlosaguila/opt/anaconda3/lib/python3.9/site-packages (from pennprov==2.2.4->ieeg==1.6) (1.16.0)\n",
      "Requirement already satisfied: python-dateutil>=2.1 in /Users/carlosaguila/opt/anaconda3/lib/python3.9/site-packages (from pennprov==2.2.4->ieeg==1.6) (2.8.2)\n",
      "Requirement already satisfied: packaging in /Users/carlosaguila/opt/anaconda3/lib/python3.9/site-packages (from deprecation->ieeg==1.6) (21.0)\n",
      "Requirement already satisfied: pyparsing>=2.0.2 in /Users/carlosaguila/opt/anaconda3/lib/python3.9/site-packages (from packaging->deprecation->ieeg==1.6) (3.0.4)\n",
      "Requirement already satisfied: pytz>=2017.3 in /Users/carlosaguila/opt/anaconda3/lib/python3.9/site-packages (from pandas->ieeg==1.6) (2021.3)\n",
      "Requirement already satisfied: idna<4,>=2.5 in /Users/carlosaguila/opt/anaconda3/lib/python3.9/site-packages (from requests->ieeg==1.6) (3.2)\n",
      "Requirement already satisfied: charset-normalizer~=2.0.0 in /Users/carlosaguila/opt/anaconda3/lib/python3.9/site-packages (from requests->ieeg==1.6) (2.0.4)\n"
     ]
    }
   ],
   "source": [
    "#establishing environment\n",
    "import matplotlib.pyplot as plt\n",
    "import numpy as np\n",
    "import pandas as pd\n",
    "import pickle\n",
    "import scipy\n",
    "from scipy.stats import pearsonr\n",
    "from scipy import signal as sig\n",
    "from scipy.io import loadmat, savemat\n",
    "!pip install git+https://github.com/ieeg-portal/ieegpy.git # Install ieegpy toolbox directly from github\n",
    "from ieeg.auth import Session"
   ]
  },
  {
   "cell_type": "code",
   "execution_count": 9,
   "id": "0a234b90-0c68-4319-a737-fb5a791081c7",
   "metadata": {},
   "outputs": [],
   "source": [
    "T_test = np.load('/Users/carlosaguila/PycharmProjects/CNT_Interictal_Spikes/Results_v1/t_test_output_20rand_1.npy', allow_pickle=True)"
   ]
  },
  {
   "cell_type": "code",
   "execution_count": 85,
   "id": "2161f1cf-8f21-47a3-9bb5-d2b040c09201",
   "metadata": {},
   "outputs": [],
   "source": [
    "channels = T_test[:,0]\n",
    "pval = T_test[:,1]\n",
    "X = []\n",
    "for i in range(len(pval)):\n",
    "    X.append([channels[i],pval[i].pvalue])\n",
    "\n",
    "pval_all = []\n",
    "for i in range(len(pval)):\n",
    "    pval_all.append(pval[i].pvalue)"
   ]
  },
  {
   "cell_type": "code",
   "execution_count": 66,
   "id": "fcc06184-4f2d-45c7-852c-8bb21bf2577e",
   "metadata": {},
   "outputs": [],
   "source": [
    "chlabels_203 = loadmat('/Users/carlosaguila/PycharmProjects/CNT_Interictal_Spikes/Results_v1/chLabels_HUP203_phaseII.mat')\n",
    "chlabels_203 = chlabels_203['ch_labels_all']\n",
    "SOZ_hup203 = ['LA1-CAR', 'LA2-CAR', 'LA3-CAR', 'LA4-CAR', 'LB5-CAR', 'LB6-CAR', 'RB9-CAR', 'RB10-CAR', 'RB11-CAR', 'RE9-CAR', 'RE10-CAR', 'RE11-CAR', 'RF9-CAR', 'RF10-CAR', 'RF11-CAR', 'RG9-CAR', 'RG10-CAR', 'RG11-CAR', 'RB1-CAR', 'RB2-CAR', 'RC1-CAR', 'RC3-CAR']\n",
    "\n",
    "SOZ_find = []\n",
    "for i in range(len(SOZ_hup203)):\n",
    "    find = np.where(SOZ_hup203[i] == chlabels_203[0][0])[0]\n",
    "    SOZ_find.append(find)\n",
    "    \n",
    "SOZ_find = np.concatenate(SOZ_find)\n",
    "\n",
    "SOZ_find2 = [x+1 for x in SOZ_find]"
   ]
  },
  {
   "cell_type": "code",
   "execution_count": 126,
   "id": "48e43045-bc52-4b85-8ac9-5084bd3b93e0",
   "metadata": {},
   "outputs": [],
   "source": [
    "find_ch = []\n",
    "for i in range(len(SOZ_find2)):\n",
    "    find = np.where(SOZ_find2[i] == X)[0]\n",
    "    find_ch.append(find)\n",
    "    \n",
    "find_ch = np.concatenate(find_ch) #index in our pvalue matrix of where the respective SOZ channel is"
   ]
  },
  {
   "cell_type": "code",
   "execution_count": 169,
   "id": "441ce3f1-6f82-4b99-8c4b-a4d8a31dd935",
   "metadata": {},
   "outputs": [
    {
     "name": "stdout",
     "output_type": "stream",
     "text": [
      "[0 1 2 3 13 41 42 43 33 34 45 47]\n"
     ]
    }
   ],
   "source": [
    "print(find_ch)"
   ]
  },
  {
   "cell_type": "code",
   "execution_count": 202,
   "id": "8ded2ad4-5b29-43b8-bab7-1e69a49aea28",
   "metadata": {},
   "outputs": [],
   "source": [
    "pval_indexed = []\n",
    "for i in find_ch:\n",
    "    pval_indexed.append(pval_all[i])"
   ]
  },
  {
   "cell_type": "code",
   "execution_count": 203,
   "id": "2707e0cc-7c3f-4cfe-a38f-1918d78e8d56",
   "metadata": {},
   "outputs": [
    {
     "data": {
      "text/plain": [
       "[5.848174479772292e-09,\n",
       " 0.001450242328980792,\n",
       " 0.00399737516494066,\n",
       " 2.5018838243913257e-06,\n",
       " nan,\n",
       " 1.0,\n",
       " 1.0,\n",
       " 1.0,\n",
       " 2.738179382517534e-29,\n",
       " 9.947010399073308e-11,\n",
       " 0.009588548230505345,\n",
       " 0.9999999996476905]"
      ]
     },
     "execution_count": 203,
     "metadata": {},
     "output_type": "execute_result"
    }
   ],
   "source": [
    "pval_indexed"
   ]
  },
  {
   "cell_type": "code",
   "execution_count": 206,
   "id": "d3f3f08c-7e60-4bf9-8074-d2e78bedae04",
   "metadata": {},
   "outputs": [
    {
     "data": {
      "text/plain": [
       "Text(0, 0.5, '-log10(pvalue)')"
      ]
     },
     "execution_count": 206,
     "metadata": {},
     "output_type": "execute_result"
    },
    {
     "data": {
      "image/png": "[encoded data removed]",
      "text/plain": [
       "<Figure size 720x720 with 1 Axes>"
      ]
     },
     "metadata": {
      "needs_background": "light"
     },
     "output_type": "display_data"
    }
   ],
   "source": [
    "plt.figure(figsize=(10,10))\n",
    "plt.plot(channels,np.log10(pval_all)*(-1),'ko')\n",
    "plt.plot(channels[test_ch],np.log10(pval_indexed)*(-1),'ro')\n",
    "plt.title('P-values for HUP 203 per channel')\n",
    "plt.xlabel('Channel')\n",
    "plt.ylabel('-log10(pvalue)')"
   ]
  },
  {
   "cell_type": "code",
   "execution_count": null,
   "id": "c63d93f8-3651-4680-9573-ec5de59adc95",
   "metadata": {},
   "outputs": [],
   "source": []
  }
 ],
 "metadata": {
  "kernelspec": {
   "display_name": "Python 3 (ipykernel)",
   "language": "python",
   "name": "python3"
  },
  "language_info": {
   "codemirror_mode": {
    "name": "ipython",
    "version": 3
   },
   "file_extension": ".py",
   "mimetype": "text/x-python",
   "name": "python",
   "nbconvert_exporter": "python",
   "pygments_lexer": "ipython3",
   "version": "3.9.7"
  }
 },
 "nbformat": 4,
 "nbformat_minor": 5
}
