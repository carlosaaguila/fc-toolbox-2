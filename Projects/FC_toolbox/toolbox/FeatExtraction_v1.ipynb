{
 "cells": [
  {
   "cell_type": "code",
   "execution_count": 279,
   "id": "f4a92844-815b-446f-b21a-a11e2bfd813c",
   "metadata": {},
   "outputs": [],
   "source": [
    "#establishing environment\n",
    "import matplotlib.pyplot as plt\n",
    "import numpy as np\n",
    "import pandas as pd\n",
    "import pickle\n",
    "import scipy\n",
    "from scipy.stats import pearsonr\n",
    "from scipy import signal as sig\n",
    "from scipy.io import loadmat, savemat"
   ]
  },
  {
   "cell_type": "code",
   "execution_count": 280,
   "id": "fa287852-472e-4be2-87f4-ca733939e7cc",
   "metadata": {},
   "outputs": [],
   "source": [
    "split_1 = loadmat('/Users/carlosaguila/PycharmProjects/CNT_Interictal_Spikes/matlab_import/split_1.mat')"
   ]
  },
  {
   "cell_type": "code",
   "execution_count": 281,
   "id": "ef389adb-8c08-4170-9cc9-f525887a2b9c",
   "metadata": {},
   "outputs": [],
   "source": [
    "values_gdf0 = split_1['values_all'][0,0] #30721 x 146\n",
    "values_gdf1 = split_1['values_all'][0,1]\n",
    "values_gdf2 = split_1['values_all'][0,2]\n",
    "values_gdf3 = split_1['values_all'][0,3]\n",
    "values_gdf4 = split_1['values_all'][0,4]\n",
    "values_gdf5 = split_1['values_all'][0,5]\n",
    "\n",
    "seq_0 = split_1['seqs_all'][0,0] #[0,0][:,0] - gives you first seq in gdf 0, channel info, [0,0][:,1] - gives you spike index\n",
    "seq_1 = split_1['seqs_all'][0,1]\n",
    "seq_2 = split_1['seqs_all'][0,2]\n",
    "seq_3 = split_1['seqs_all'][0,3]\n",
    "seq_4 = split_1['seqs_all'][0,4]\n",
    "seq_5 = split_1['seqs_all'][0,5]\n",
    "\n",
    "ch_labels0 = split_1['ch_labels_all'][0,0]\n",
    "fs = 512;"
   ]
  },
  {
   "cell_type": "code",
   "execution_count": 282,
   "id": "82fb7eff-821f-46f3-970c-9b8dcd2c149d",
   "metadata": {},
   "outputs": [
    {
     "data": {
      "text/plain": [
       "(1, 6)"
      ]
     },
     "execution_count": 282,
     "metadata": {},
     "output_type": "execute_result"
    }
   ],
   "source": [
    "np.shape(split_1['values_all'])"
   ]
  },
  {
   "cell_type": "code",
   "execution_count": 283,
   "id": "ae1d55f7-d33b-4a0d-8d1c-3d085f358297",
   "metadata": {},
   "outputs": [],
   "source": [
    "#NOTES:\n",
    "#LOOK INTO MAYBE REMOVING NAN'S BUT THAT WOULD SHIFT THE CHLABELS. \n",
    "#PLOT CODE IN MATLAB DOESN'T CHANGE THE NAN'S IT JUST DOESN'T OFFSET THEM. "
   ]
  },
  {
   "cell_type": "code",
   "execution_count": 284,
   "id": "10b8d53c-1e64-46a6-a113-bdc3dcb5125b",
   "metadata": {},
   "outputs": [
    {
     "name": "stdout",
     "output_type": "stream",
     "text": [
      "(30721, 146)\n"
     ]
    }
   ],
   "source": [
    "print(np.shape(values_gdf0))"
   ]
  },
  {
   "cell_type": "code",
   "execution_count": 285,
   "id": "899e7adc-2b39-4dbd-b6dc-45fcd6b0bd38",
   "metadata": {
    "tags": []
   },
   "outputs": [],
   "source": [
    "#function to find the mean_max in a sequence split(gdf)\n",
    "def mean_max(sequence_split, values):\n",
    "    seq_0_concat = np.concatenate(sequence_split)\n",
    "    seq_0_concat = np.concatenate(seq_0_concat) #double concatenate so that everything is in a array corresponding - basically turns into GDF\n",
    "    ch_uniq = np.unique(seq_0_concat[:,0]) #finds the unique channels in each run_time\n",
    "    #finds the mean of the max of each channel's spike index.\n",
    "    meanmax_per_ch = [];\n",
    "    for ch in ch_uniq:\n",
    "        x = np.where(seq_0_concat[:,0] == ch)[0] #index where all spikes are per channel per run_time\n",
    "        max_in_ch = []\n",
    "        for i in x:\n",
    "            val = values[seq_0_concat[i,1]-20:seq_0_concat[i,1]+20, ch] #finding value at the spike and channel from x\n",
    "            val_max = np.max(np.abs(val))\n",
    "            max_in_ch.append(val_max)\n",
    "        meanmax_per_ch.append(np.mean(max_in_ch))\n",
    "    \n",
    "    return meanmax_per_ch, ch_uniq"
   ]
  },
  {
   "cell_type": "code",
   "execution_count": 286,
   "id": "1f0a885a-96d5-4e31-bac2-b3792b2a9263",
   "metadata": {},
   "outputs": [
    {
     "name": "stdout",
     "output_type": "stream",
     "text": [
      "[410.88361650850544, 154.90517452992887, 147.91623852400187, 244.34705052539755, 112.40112536283877, 204.30030075474554, 161.313233439993, 175.89055598872588, 144.1146710268245, 119.32733383452903, 150.72051541032263, 121.901648108972, 204.9564291929405, 102.78531202685559, 114.01200742988821, 105.87021301179789, 189.4097833904775, 630.8602163350512, 256.3494837394883, 173.0920319224909, 479.64651940249956, 342.6513499202294, 283.0246348092994, 146.08609423136363, 176.0875493565139, 111.23254533067617, 111.769606729618, 109.4634079363243, 486.3134982867389, 125.27184558249105, 179.52362687598782, 177.6891955234385, 192.1357808642966, 184.60736191027917, 141.03070538526111, 187.79121630708485, 185.47759233070164, 117.53363841529887, 69.73865037113053, 228.06500594548126, 215.27187980890648, 192.0685250894378, 287.6640947477094, 119.48713723970621, 84.39192134103361, 53.966891945371685, 284.2849983439468, 232.8002162404095, 182.77680294804352, 49.45968849123526, 206.65107630360475, 80.18439359108577, 248.57857881356156, 270.27339496306297, 202.14864854404314, 182.28250298640998, 29.2455408033155, 191.62210136143375, 123.89342018872347, 99.40917874779866, 142.26873949568613, 76.79310005738742, 78.18565614156643, 92.20460402508378, 39.291652001432595, 292.40951081887636, 413.8369881030638, 345.8204276803899, 272.4441712793798, 100.19726207135082, 156.64832730935464, 156.63387313788334, 184.58490502573545, 274.1990987615374, 110.89441958768225, 150.45955901706176, 102.97721918411469]\n"
     ]
    }
   ],
   "source": [
    "mean_max_seq_0 = mean_max(seq_0,values_gdf0)\n",
    "print(mean_max_seq0)"
   ]
  },
  {
   "cell_type": "code",
   "execution_count": 287,
   "id": "cba7e60d-ad82-4c36-bb2b-43b15159d1fa",
   "metadata": {},
   "outputs": [],
   "source": [
    "#creates a concatenation of ALL gdf's mean absolute max value in every channel\n",
    "def ALL_mean_max(split_1): #input would be the complete matrix assuming 'values_all' and 'seqs_all' are the base names\n",
    "    mean_max_ALL = []\n",
    "    ch_uniq_ALL = []\n",
    "    \n",
    "    for I in range(len(split_1['values_all'][0])):\n",
    "        values_gdf_I = split_1['values_all'][0,I]\n",
    "        seq_I = split_1['seqs_all'][0,I]\n",
    "        mean_max_seq_I, ch_uniq_I = mean_max(seq_I,values_gdf_I)\n",
    "        mean_max_ALL.append(mean_max_seq_I)\n",
    "        ch_uniq_ALL.append(ch_uniq_I)\n",
    "    \n",
    "    ch_uniq_AL_C = np.concatenate(ch_uniq_ALL)\n",
    "    mean_max_ALL_C = np.concatenate(mean_max_ALL)\n",
    "    \n",
    "    ALL_mean_max_with_ch = [ch_uniq_AL_C,mean_max_ALL_C]\n",
    "    return ALL_mean_max_with_ch"
   ]
  },
  {
   "cell_type": "code",
   "execution_count": 288,
   "id": "faf87220-f969-4f91-8796-3a6bb87508ec",
   "metadata": {},
   "outputs": [
    {
     "data": {
      "text/plain": [
       "(2, 492)"
      ]
     },
     "execution_count": 288,
     "metadata": {},
     "output_type": "execute_result"
    }
   ],
   "source": [
    "all_mean_max = ALL_mean_max(split_1)\n",
    "np.shape(all_mean_max)"
   ]
  },
  {
   "cell_type": "code",
   "execution_count": 289,
   "id": "cf61820c-cf3b-4ac0-a739-58f652b6b6e3",
   "metadata": {},
   "outputs": [],
   "source": [
    "#creates a compilation of every channel in all gdfs and there respective means of max absolute peak values \n",
    "def meanofmeanmax_per_ch(split_1): #input is the complete split file.\n",
    "    all_mean_max = ALL_mean_max(split_1) #uses ALL_mean_max function to get you a complete list of concatenated mean max's\n",
    "    \n",
    "    #code to get means of means per channel.\n",
    "    all_mean_max = np.transpose(all_mean_max)\n",
    "    ch_uniq = np.unique(all_mean_max[:,0]) #finds the unique channels in concatenated list\n",
    "    means = []\n",
    "    for ch in ch_uniq:\n",
    "        x = np.where(all_mean_max[:,0] == ch)[0] #index where all spikes are per channel per run_time\n",
    "        means.append(np.mean(all_mean_max[x,1]))\n",
    "    meanofmeanmax = [ch_uniq,means]    \n",
    "    return np.transpose(meanofmeanmax) # ['channel','mean max']"
   ]
  },
  {
   "cell_type": "code",
   "execution_count": 290,
   "id": "6dd191d9-fa36-4d0e-9246-ea9107c0ead1",
   "metadata": {},
   "outputs": [],
   "source": [
    "meanmax_ch_ALL = meanofmeanmax_per_ch(split_1)"
   ]
  },
  {
   "cell_type": "code",
   "execution_count": 293,
   "id": "ce54c278-ba00-4f8f-b1b0-16a9d0cce074",
   "metadata": {},
   "outputs": [
    {
     "data": {
      "text/plain": [
       "(107, 2)"
      ]
     },
     "execution_count": 293,
     "metadata": {},
     "output_type": "execute_result"
    }
   ],
   "source": [
    "np.shape(meanmax_ch_ALL)"
   ]
  }
 ],
 "metadata": {
  "kernelspec": {
   "display_name": "Python 3 (ipykernel)",
   "language": "python",
   "name": "python3"
  },
  "language_info": {
   "codemirror_mode": {
    "name": "ipython",
    "version": 3
   },
   "file_extension": ".py",
   "mimetype": "text/x-python",
   "name": "python",
   "nbconvert_exporter": "python",
   "pygments_lexer": "ipython3",
   "version": "3.9.7"
  }
 },
 "nbformat": 4,
 "nbformat_minor": 5
}
