{
 "cells": [
  {
   "cell_type": "code",
   "execution_count": 294,
   "id": "f4a92844-815b-446f-b21a-a11e2bfd813c",
   "metadata": {},
   "outputs": [],
   "source": [
    "#establishing environment\n",
    "import matplotlib.pyplot as plt\n",
    "import numpy as np\n",
    "import pandas as pd\n",
    "import pickle\n",
    "import scipy\n",
    "from scipy.stats import pearsonr\n",
    "from scipy import signal as sig\n",
    "from scipy.io import loadmat, savemat"
   ]
  },
  {
   "cell_type": "code",
   "execution_count": 295,
   "id": "fa287852-472e-4be2-87f4-ca733939e7cc",
   "metadata": {},
   "outputs": [],
   "source": [
    "split_1 = loadmat('/Users/carlosaguila/PycharmProjects/CNT_Interictal_Spikes/matlab_import/split_1.mat')"
   ]
  },
  {
   "cell_type": "code",
   "execution_count": 296,
   "id": "ef389adb-8c08-4170-9cc9-f525887a2b9c",
   "metadata": {},
   "outputs": [],
   "source": [
    "values_gdf0 = split_1['values_all'][0,0] #30721 x 146\n",
    "values_gdf1 = split_1['values_all'][0,1]\n",
    "values_gdf2 = split_1['values_all'][0,2]\n",
    "values_gdf3 = split_1['values_all'][0,3]\n",
    "values_gdf4 = split_1['values_all'][0,4]\n",
    "values_gdf5 = split_1['values_all'][0,5]\n",
    "\n",
    "seq_0 = split_1['seqs_all'][0,0] #[0,0][:,0] - gives you first seq in gdf 0, channel info, [0,0][:,1] - gives you spike index\n",
    "seq_1 = split_1['seqs_all'][0,1]\n",
    "seq_2 = split_1['seqs_all'][0,2]\n",
    "seq_3 = split_1['seqs_all'][0,3]\n",
    "seq_4 = split_1['seqs_all'][0,4]\n",
    "seq_5 = split_1['seqs_all'][0,5]\n",
    "\n",
    "ch_labels0 = split_1['ch_labels_all'][0,0]\n",
    "fs = 512;"
   ]
  },
  {
   "cell_type": "code",
   "execution_count": 297,
   "id": "82fb7eff-821f-46f3-970c-9b8dcd2c149d",
   "metadata": {},
   "outputs": [
    {
     "data": {
      "text/plain": [
       "(1, 6)"
      ]
     },
     "execution_count": 297,
     "metadata": {},
     "output_type": "execute_result"
    }
   ],
   "source": [
    "np.shape(split_1['values_all'])"
   ]
  },
  {
   "cell_type": "code",
   "execution_count": 298,
   "id": "ae1d55f7-d33b-4a0d-8d1c-3d085f358297",
   "metadata": {},
   "outputs": [],
   "source": [
    "#NOTES:\n",
    "#LOOK INTO MAYBE REMOVING NAN'S BUT THAT WOULD SHIFT THE CHLABELS. \n",
    "#PLOT CODE IN MATLAB DOESN'T CHANGE THE NAN'S IT JUST DOESN'T OFFSET THEM. "
   ]
  },
  {
   "cell_type": "code",
   "execution_count": 299,
   "id": "10b8d53c-1e64-46a6-a113-bdc3dcb5125b",
   "metadata": {},
   "outputs": [
    {
     "name": "stdout",
     "output_type": "stream",
     "text": [
      "(30721, 146)\n"
     ]
    }
   ],
   "source": [
    "print(np.shape(values_gdf0))"
   ]
  },
  {
   "cell_type": "code",
   "execution_count": 364,
   "id": "899e7adc-2b39-4dbd-b6dc-45fcd6b0bd38",
   "metadata": {
    "tags": []
   },
   "outputs": [],
   "source": [
    "#function to find the mean_max in a sequence split(gdf)\n",
    "def mean_max(sequence_split, values):\n",
    "    seq_0_concat = np.concatenate(sequence_split)\n",
    "    seq_0_concat = np.concatenate(seq_0_concat) #double concatenate so that everything is in a array corresponding - basically turns into GDF\n",
    "    ch_uniq = np.unique(seq_0_concat[:,0]) #finds the unique channels in each run_time\n",
    "    #finds the mean of the max of each channel's spike index.\n",
    "    meanmax_per_ch = [];\n",
    "    all_max = []\n",
    "    for ch in ch_uniq:\n",
    "        x = np.where(seq_0_concat[:,0] == ch)[0] #index where all spikes are per channel per run_time\n",
    "        max_in_ch = []\n",
    "        chs = []\n",
    "        for i in x:\n",
    "            val = values[seq_0_concat[i,1]-20:seq_0_concat[i,1]+20, ch] #finding value at the spike and channel from x\n",
    "            val_max = np.max(np.abs(val))\n",
    "            max_in_ch.append(val_max)\n",
    "            chs.append(np.unique(ch))\n",
    "        meanmax_per_ch.append(np.mean(max_in_ch))\n",
    "        all_max.append([np.concatenate(chs),max_in_ch])\n",
    "        \n",
    "    chs2 = (np.concatenate(np.transpose(all_max)[0]))\n",
    "    maxs2 = (np.concatenate(np.transpose(all_max)[1]))\n",
    "    all_max_2 = [chs2,maxs2] #reshape of maxs in all channels.\n",
    "    return meanmax_per_ch, ch_uniq, all_max_2"
   ]
  },
  {
   "cell_type": "code",
   "execution_count": 366,
   "id": "1f0a885a-96d5-4e31-bac2-b3792b2a9263",
   "metadata": {},
   "outputs": [
    {
     "name": "stdout",
     "output_type": "stream",
     "text": [
      "(2, 523)\n"
     ]
    }
   ],
   "source": [
    "mean_max_seq_0, ch_uniq, all_max = mean_max(seq_0,values_gdf0)\n",
    "print(np.shape(all_max))"
   ]
  },
  {
   "cell_type": "code",
   "execution_count": 408,
   "id": "cba7e60d-ad82-4c36-bb2b-43b15159d1fa",
   "metadata": {},
   "outputs": [],
   "source": [
    "#creates a concatenation of ALL gdf's mean absolute max value in every channel\n",
    "def ALL_mean_max(split_1): #input would be the complete matrix assuming 'values_all' and 'seqs_all' are the base names\n",
    "    mean_max_ALL = []\n",
    "    ch_uniq_ALL = []\n",
    "    max_I_ALL = []\n",
    "    \n",
    "    for I in range(len(split_1['values_all'][0])):\n",
    "        values_gdf_I = split_1['values_all'][0,I]\n",
    "        seq_I = split_1['seqs_all'][0,I]\n",
    "        mean_max_seq_I, ch_uniq_I, all_max_I = mean_max(seq_I,values_gdf_I)\n",
    "        mean_max_ALL.append(mean_max_seq_I)\n",
    "        ch_uniq_ALL.append(ch_uniq_I)\n",
    "        max_I_ALL.append(all_max_I)\n",
    "    \n",
    "    ch_uniq_AL_C = np.concatenate(ch_uniq_ALL)\n",
    "    mean_max_ALL_C = np.concatenate(mean_max_ALL)\n",
    "    ALL_CH = []\n",
    "    ALL_maxvalues = []\n",
    "    for s in range(len(max_I_ALL)):\n",
    "        ALL_CH.append((max_I_ALL[s][0]))\n",
    "        ALL_maxvalues.append((max_I_ALL[s][1]))\n",
    "    ALL_CH = np.concatenate(ALL_CH)\n",
    "    ALL_maxvalues = np.concatenate(ALL_maxvalues)\n",
    "    max_I_ALL = [ALL_CH,ALL_maxvalues]\n",
    "    ALL_mean_max_with_ch = [ch_uniq_AL_C,mean_max_ALL_C]\n",
    "    return ALL_mean_max_with_ch, max_I_ALL"
   ]
  },
  {
   "cell_type": "code",
   "execution_count": 411,
   "id": "faf87220-f969-4f91-8796-3a6bb87508ec",
   "metadata": {},
   "outputs": [
    {
     "data": {
      "text/plain": [
       "(2, 3390)"
      ]
     },
     "execution_count": 411,
     "metadata": {},
     "output_type": "execute_result"
    }
   ],
   "source": [
    "all_mean_max, max_I_ALL_C = ALL_mean_max(split_1)\n",
    "np.shape(max_I_ALL_C)"
   ]
  },
  {
   "cell_type": "code",
   "execution_count": 446,
   "id": "cf61820c-cf3b-4ac0-a739-58f652b6b6e3",
   "metadata": {},
   "outputs": [],
   "source": [
    "#creates a compilation of every channel in all gdfs and there respective means of max absolute peak values \n",
    "def meanofmeanmax_per_ch(split_1): #input is the complete split file.\n",
    "    all_mean_max, max_I_all = ALL_mean_max(split_1) #uses ALL_mean_max function to get you a complete list of concatenated mean max's\n",
    "\n",
    "    #code to get means of means per channel.\n",
    "    all_mean_max = np.transpose(all_mean_max)\n",
    "    max_I_all = np.transpose(max_I_all)\n",
    "    popmean= np.nanmean(max_I_all[:,1])\n",
    "    popstd = np.nanstd(max_I_all[:,1])\n",
    "    ch_uniq = np.unique(all_mean_max[:,0]) #finds the unique channels in concatenated list\n",
    "    ch_uniq_ALL = np.unique(max_I_all[:,0])\n",
    "    \n",
    "    means = []\n",
    "    means_from_all_maxes = []\n",
    "    std_from_all_maxes = []\n",
    "    for ch in ch_uniq:\n",
    "        x = np.where(all_mean_max[:,0] == ch)[0]#index where all spikes are per channel per run_time\n",
    "        means.append(np.mean(all_mean_max[x,1]))\n",
    "    for ch2 in ch_uniq_ALL:\n",
    "        x2 = np.where(max_I_all[:,0] == ch2)[0]\n",
    "        means_from_all_maxes.append(np.mean(max_I_all[x2,1]))\n",
    "        std_from_all_maxes.append(np.std(max_I_all[x2,1]))\n",
    "    meanofmeanmax = [ch_uniq,means]    \n",
    "    stats_per_ch = [ch_uniq_ALL, means_from_all_maxes, std_from_all_maxes]\n",
    "    \n",
    "    return np.transpose(meanofmeanmax), np.transpose(stats_per_ch), popmean, popstd # ['channel','mean of mean max'] ['channel', 'mean of maxes for all channels', 'std of maxes for all channels']"
   ]
  },
  {
   "cell_type": "code",
   "execution_count": 447,
   "id": "6dd191d9-fa36-4d0e-9246-ea9107c0ead1",
   "metadata": {},
   "outputs": [],
   "source": [
    "meanmax_ch_ALL, stats_ch_ALL, popmean, popstd = meanofmeanmax_per_ch(split_1)"
   ]
  },
  {
   "cell_type": "code",
   "execution_count": 452,
   "id": "ce54c278-ba00-4f8f-b1b0-16a9d0cce074",
   "metadata": {},
   "outputs": [
    {
     "name": "stdout",
     "output_type": "stream",
     "text": [
      "(107, 2)\n",
      "(107, 3)\n",
      "\"population\" mean: 205.21694186524024\n",
      "\"population\" std: 151.0407334371281\n",
      "107\n"
     ]
    }
   ],
   "source": [
    "print(np.shape(meanmax_ch_ALL))\n",
    "print(np.shape(stats_ch_ALL))\n",
    "print('\"population\" mean:', popmean)\n",
    "print('\"population\" std:', popstd)\n",
    "print(len(stats_ch_ALL))"
   ]
  },
  {
   "cell_type": "code",
   "execution_count": 472,
   "id": "a0722171-2523-4515-b070-b787a5aca50a",
   "metadata": {},
   "outputs": [],
   "source": [
    "#test for significance\n",
    "from scipy import stats as st\n",
    "\n",
    "#perform 1-sample t test\n",
    "def stu_ttest_per_chn(split_1):\n",
    "    _ , max_I_all = ALL_mean_max(split_1)\n",
    "    _ , stats_ch_ALL, popmean, popstd = meanofmeanmax_per_ch(split_1)\n",
    "    max_I_all = np.transpose(max_I_all)\n",
    "    ch_uniq_ALL = np.unique(max_I_all[:,0])\n",
    "    stats_per_chn = []\n",
    "    for ch2 in ch_uniq_ALL:\n",
    "        x2 = np.where(max_I_all[:,0] == ch2)[0]\n",
    "        stats = st.ttest_1samp(a=max_I_all[x2,1], popmean=popmean)\n",
    "        stats_per_chn.append(stats)\n",
    "    stats_per_chn_labeled = [ch_uniq_ALL, stats_per_chn];\n",
    "    return np.transpose(stats_per_chn_labeled)"
   ]
  },
  {
   "cell_type": "code",
   "execution_count": 473,
   "id": "06f3655e-74ca-4d06-b4a9-98c4af5890a1",
   "metadata": {},
   "outputs": [],
   "source": [
    "x = stu_ttest_per_chn(split_1)\n"
   ]
  },
  {
   "cell_type": "code",
   "execution_count": 476,
   "id": "69306918-50b4-4b84-807c-b4aa5e343a9f",
   "metadata": {},
   "outputs": [
    {
     "data": {
      "text/plain": [
       "array([[7.0,\n",
       "        Ttest_1sampResult(statistic=6.549282358995786, pvalue=1.292548370549977e-05)],\n",
       "       [8.0,\n",
       "        Ttest_1sampResult(statistic=-1.006259307640261, pvalue=0.32839977535010534)],\n",
       "       [9.0,\n",
       "        Ttest_1sampResult(statistic=-3.1379454223491385, pvalue=0.025725861574554375)],\n",
       "       [11.0,\n",
       "        Ttest_1sampResult(statistic=-1.3444369058008605, pvalue=0.22740510003413508)],\n",
       "       [12.0,\n",
       "        Ttest_1sampResult(statistic=-7.224399073459904, pvalue=0.00035667054355398363)],\n",
       "       [15.0, Ttest_1sampResult(statistic=nan, pvalue=nan)],\n",
       "       [16.0,\n",
       "        Ttest_1sampResult(statistic=-6.168680954143606, pvalue=0.0001649629744595394)],\n",
       "       [17.0,\n",
       "        Ttest_1sampResult(statistic=-26.38827563953052, pvalue=2.8733080324990944e-08)],\n",
       "       [28.0,\n",
       "        Ttest_1sampResult(statistic=1.2392141775534729, pvalue=0.2615394104927984)],\n",
       "       [29.0,\n",
       "        Ttest_1sampResult(statistic=-9.305934262930185, pvalue=0.0026267906697071824)],\n",
       "       [30.0,\n",
       "        Ttest_1sampResult(statistic=-13.31561784976251, pvalue=1.1096350489568902e-05)],\n",
       "       [31.0,\n",
       "        Ttest_1sampResult(statistic=-14.622925078802112, pvalue=6.4200616152678445e-06)],\n",
       "       [32.0, Ttest_1sampResult(statistic=nan, pvalue=nan)],\n",
       "       [34.0,\n",
       "        Ttest_1sampResult(statistic=-0.0767584864873366, pvalue=0.9395094739288816)],\n",
       "       [35.0,\n",
       "        Ttest_1sampResult(statistic=-2.1925767127254523, pvalue=0.03827081967845653)],\n",
       "       [36.0,\n",
       "        Ttest_1sampResult(statistic=2.4868834551591035, pvalue=0.017158379874392823)],\n",
       "       [37.0,\n",
       "        Ttest_1sampResult(statistic=-6.927729859864946, pvalue=4.9540971010336924e-09)],\n",
       "       [38.0,\n",
       "        Ttest_1sampResult(statistic=0.5523872943904256, pvalue=0.5842964190081911)],\n",
       "       [39.0,\n",
       "        Ttest_1sampResult(statistic=-1.1829997129157253, pvalue=0.24397089015820586)],\n",
       "       [40.0,\n",
       "        Ttest_1sampResult(statistic=-11.482528845735716, pvalue=1.8368565759298138e-11)],\n",
       "       [41.0,\n",
       "        Ttest_1sampResult(statistic=-1.4380862544598896, pvalue=0.1666776323538746)],\n",
       "       [42.0,\n",
       "        Ttest_1sampResult(statistic=-18.761522175968764, pvalue=1.4335442295510905e-25)],\n",
       "       [43.0,\n",
       "        Ttest_1sampResult(statistic=-19.535440585679197, pvalue=3.372822505614326e-24)],\n",
       "       [44.0,\n",
       "        Ttest_1sampResult(statistic=-18.94528855872984, pvalue=1.3912079235581786e-21)],\n",
       "       [45.0,\n",
       "        Ttest_1sampResult(statistic=3.615280348863899, pvalue=0.0008484409459751976)],\n",
       "       [46.0,\n",
       "        Ttest_1sampResult(statistic=7.270928859853434, pvalue=9.126619129627208e-09)],\n",
       "       [47.0,\n",
       "        Ttest_1sampResult(statistic=2.124244142897946, pvalue=0.05194610085268299)],\n",
       "       [48.0,\n",
       "        Ttest_1sampResult(statistic=1.8118675936047894, pvalue=0.07668303985644351)],\n",
       "       [49.0,\n",
       "        Ttest_1sampResult(statistic=18.106412936550846, pvalue=2.187690305704091e-30)],\n",
       "       [50.0,\n",
       "        Ttest_1sampResult(statistic=15.157468282470521, pvalue=1.3272552879446207e-30)],\n",
       "       [51.0,\n",
       "        Ttest_1sampResult(statistic=5.178444450631623, pvalue=6.64321516215508e-07)],\n",
       "       [52.0,\n",
       "        Ttest_1sampResult(statistic=-17.290101303221704, pvalue=1.0404916482807376e-38)],\n",
       "       [53.0,\n",
       "        Ttest_1sampResult(statistic=-4.292892980614349, pvalue=5.48828740065554e-05)],\n",
       "       [54.0,\n",
       "        Ttest_1sampResult(statistic=-17.771748101402085, pvalue=2.2942243541469757e-30)],\n",
       "       [55.0,\n",
       "        Ttest_1sampResult(statistic=-17.360505972028243, pvalue=7.371442808587595e-25)],\n",
       "       [56.0,\n",
       "        Ttest_1sampResult(statistic=-16.071726570904143, pvalue=1.5080509511587589e-19)],\n",
       "       [57.0,\n",
       "        Ttest_1sampResult(statistic=6.78987415521114, pvalue=2.5948911685777678e-08)],\n",
       "       [58.0,\n",
       "        Ttest_1sampResult(statistic=-0.05825824330844915, pvalue=0.9537847893215852)],\n",
       "       [59.0,\n",
       "        Ttest_1sampResult(statistic=-3.0850506524149126, pvalue=0.007544072430567304)],\n",
       "       [60.0,\n",
       "        Ttest_1sampResult(statistic=-1.8657576093382693, pvalue=0.08894757787541703)],\n",
       "       [61.0,\n",
       "        Ttest_1sampResult(statistic=-1.6404160650013855, pvalue=0.12318550924242579)],\n",
       "       [62.0,\n",
       "        Ttest_1sampResult(statistic=-2.7999131947356783, pvalue=0.031167512997582858)],\n",
       "       [63.0, Ttest_1sampResult(statistic=nan, pvalue=nan)],\n",
       "       [65.0, Ttest_1sampResult(statistic=nan, pvalue=nan)],\n",
       "       [66.0,\n",
       "        Ttest_1sampResult(statistic=-3.144976432501983, pvalue=0.00294107293289192)],\n",
       "       [67.0,\n",
       "        Ttest_1sampResult(statistic=-2.9743577885359938, pvalue=0.004510891669666076)],\n",
       "       [68.0,\n",
       "        Ttest_1sampResult(statistic=-5.630246798559759, pvalue=8.171053892181742e-07)],\n",
       "       [69.0,\n",
       "        Ttest_1sampResult(statistic=-1.6239642115342035, pvalue=0.11450981748877637)],\n",
       "       [70.0,\n",
       "        Ttest_1sampResult(statistic=2.714330312541682, pvalue=0.012369722164747844)],\n",
       "       [71.0,\n",
       "        Ttest_1sampResult(statistic=-2.7699324222983397, pvalue=0.010645984207593735)],\n",
       "       [72.0,\n",
       "        Ttest_1sampResult(statistic=-15.828995505091607, pvalue=1.6561961918574075e-13)],\n",
       "       [73.0,\n",
       "        Ttest_1sampResult(statistic=-41.272511840239886, pvalue=1.163184574677653e-28)],\n",
       "       [75.0,\n",
       "        Ttest_1sampResult(statistic=1.2013398983561756, pvalue=0.260278490199446)],\n",
       "       [76.0,\n",
       "        Ttest_1sampResult(statistic=1.9513843087869371, pvalue=0.06385916064882023)],\n",
       "       [77.0,\n",
       "        Ttest_1sampResult(statistic=0.08361444854619907, pvalue=0.9343396965116508)],\n",
       "       [78.0,\n",
       "        Ttest_1sampResult(statistic=4.759282040445043, pvalue=0.00015673665000115163)],\n",
       "       [79.0,\n",
       "        Ttest_1sampResult(statistic=-19.036870751167026, pvalue=2.2277135086182634e-20)],\n",
       "       [80.0,\n",
       "        Ttest_1sampResult(statistic=-13.6425797894172, pvalue=1.365094543181097e-11)],\n",
       "       [81.0,\n",
       "        Ttest_1sampResult(statistic=-54.64623587885715, pvalue=3.002072822941183e-23)],\n",
       "       [86.0,\n",
       "        Ttest_1sampResult(statistic=1.1360766845562054, pvalue=0.2800702187208456)],\n",
       "       [87.0,\n",
       "        Ttest_1sampResult(statistic=1.641995499777515, pvalue=0.11794622220272932)],\n",
       "       [88.0,\n",
       "        Ttest_1sampResult(statistic=-1.6686536390342104, pvalue=0.10228779739073804)],\n",
       "       [89.0,\n",
       "        Ttest_1sampResult(statistic=-11.24795777965796, pvalue=4.292047759032072e-12)],\n",
       "       [90.0,\n",
       "        Ttest_1sampResult(statistic=3.7896678854410717, pvalue=0.00046482788056161653)],\n",
       "       [91.0,\n",
       "        Ttest_1sampResult(statistic=-39.45624366842261, pvalue=1.3490683746674388e-43)],\n",
       "       [93.0,\n",
       "        Ttest_1sampResult(statistic=4.825516064799285, pvalue=4.289910632673302e-06)],\n",
       "       [94.0,\n",
       "        Ttest_1sampResult(statistic=6.257219662411336, pvalue=4.289248557883022e-09)],\n",
       "       [95.0,\n",
       "        Ttest_1sampResult(statistic=-3.012385472313425, pvalue=0.003028032193705732)],\n",
       "       [96.0,\n",
       "        Ttest_1sampResult(statistic=-3.2736794124039816, pvalue=0.0013216542892733473)],\n",
       "       [97.0,\n",
       "        Ttest_1sampResult(statistic=-150.94062396441913, pvalue=4.755046937600587e-103)],\n",
       "       [98.0, Ttest_1sampResult(statistic=nan, pvalue=nan)],\n",
       "       [104.0, Ttest_1sampResult(statistic=nan, pvalue=nan)],\n",
       "       [106.0, Ttest_1sampResult(statistic=nan, pvalue=nan)],\n",
       "       [109.0, Ttest_1sampResult(statistic=nan, pvalue=nan)],\n",
       "       [112.0, Ttest_1sampResult(statistic=nan, pvalue=nan)],\n",
       "       [113.0,\n",
       "        Ttest_1sampResult(statistic=-10.134831996433693, pvalue=0.009595786229199937)],\n",
       "       [114.0,\n",
       "        Ttest_1sampResult(statistic=0.03575364083714142, pvalue=0.9722592453178556)],\n",
       "       [115.0,\n",
       "        Ttest_1sampResult(statistic=1.0530130737075702, pvalue=0.483564803723102)],\n",
       "       [116.0, Ttest_1sampResult(statistic=nan, pvalue=nan)],\n",
       "       [117.0, Ttest_1sampResult(statistic=nan, pvalue=nan)],\n",
       "       [118.0, Ttest_1sampResult(statistic=nan, pvalue=nan)],\n",
       "       [120.0,\n",
       "        Ttest_1sampResult(statistic=-18.40681872905066, pvalue=0.00034989613283146836)],\n",
       "       [121.0,\n",
       "        Ttest_1sampResult(statistic=-12.902211957762248, pvalue=0.00020811295506978188)],\n",
       "       [122.0,\n",
       "        Ttest_1sampResult(statistic=-9.66129090097062, pvalue=1.0971888140695377e-05)],\n",
       "       [123.0,\n",
       "        Ttest_1sampResult(statistic=0.774512886173828, pvalue=0.48186172360004187)],\n",
       "       [124.0,\n",
       "        Ttest_1sampResult(statistic=-8.970936821538134, pvalue=0.0002870561439267271)],\n",
       "       [125.0,\n",
       "        Ttest_1sampResult(statistic=-1.1187373219006596, pvalue=0.3447572381756913)],\n",
       "       [126.0,\n",
       "        Ttest_1sampResult(statistic=-9.596027202703834, pvalue=2.3165715141257325e-06)],\n",
       "       [127.0,\n",
       "        Ttest_1sampResult(statistic=-15.755154216890462, pvalue=5.651052115378265e-12)],\n",
       "       [128.0,\n",
       "        Ttest_1sampResult(statistic=-21.180938566759945, pvalue=6.362498185306619e-18)],\n",
       "       [129.0,\n",
       "        Ttest_1sampResult(statistic=-44.04313751140947, pvalue=1.1032792716164674e-26)],\n",
       "       [130.0, Ttest_1sampResult(statistic=nan, pvalue=nan)],\n",
       "       [131.0, Ttest_1sampResult(statistic=nan, pvalue=nan)],\n",
       "       [132.0,\n",
       "        Ttest_1sampResult(statistic=2.3941146883158972, pvalue=0.04028472572850663)],\n",
       "       [133.0,\n",
       "        Ttest_1sampResult(statistic=5.237097044874173, pvalue=5.573468324247603e-05)],\n",
       "       [134.0,\n",
       "        Ttest_1sampResult(statistic=8.660265324160754, pvalue=1.2743672058180043e-10)],\n",
       "       [135.0, Ttest_1sampResult(statistic=nan, pvalue=nan)],\n",
       "       [136.0,\n",
       "        Ttest_1sampResult(statistic=3.2243612019378385, pvalue=0.0032013038829057576)],\n",
       "       [137.0,\n",
       "        Ttest_1sampResult(statistic=-10.705148132320211, pvalue=1.5446286872863143e-14)],\n",
       "       [138.0,\n",
       "        Ttest_1sampResult(statistic=-6.690989999614753, pvalue=1.4919407120574457e-07)],\n",
       "       [139.0, Ttest_1sampResult(statistic=nan, pvalue=nan)],\n",
       "       [140.0,\n",
       "        Ttest_1sampResult(statistic=1.7445280722031942, pvalue=0.09386229763264095)],\n",
       "       [141.0,\n",
       "        Ttest_1sampResult(statistic=4.925453452161951, pvalue=2.6590982755185296e-05)],\n",
       "       [142.0,\n",
       "        Ttest_1sampResult(statistic=-16.016288949753243, pvalue=6.119172195150744e-16)],\n",
       "       [143.0,\n",
       "        Ttest_1sampResult(statistic=-5.185548100038852, pvalue=0.0004097725369854268)],\n",
       "       [144.0, Ttest_1sampResult(statistic=nan, pvalue=nan)],\n",
       "       [145.0, Ttest_1sampResult(statistic=nan, pvalue=nan)]],\n",
       "      dtype=object)"
      ]
     },
     "execution_count": 476,
     "metadata": {},
     "output_type": "execute_result"
    }
   ],
   "source": [
    "x"
   ]
  },
  {
   "cell_type": "code",
   "execution_count": null,
   "id": "c4797dbe-e971-41b7-885c-90bc581cfae2",
   "metadata": {},
   "outputs": [],
   "source": []
  }
 ],
 "metadata": {
  "kernelspec": {
   "display_name": "Python 3 (ipykernel)",
   "language": "python",
   "name": "python3"
  },
  "language_info": {
   "codemirror_mode": {
    "name": "ipython",
    "version": 3
   },
   "file_extension": ".py",
   "mimetype": "text/x-python",
   "name": "python",
   "nbconvert_exporter": "python",
   "pygments_lexer": "ipython3",
   "version": "3.9.7"
  }
 },
 "nbformat": 4,
 "nbformat_minor": 5
}
